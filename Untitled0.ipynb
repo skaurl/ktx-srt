{
  "nbformat": 4,
  "nbformat_minor": 0,
  "metadata": {
    "colab": {
      "name": "Untitled0.ipynb",
      "provenance": [],
      "collapsed_sections": [],
      "authorship_tag": "ABX9TyO6YK94HOCtEEEmew8eH4aL",
      "include_colab_link": true
    },
    "kernelspec": {
      "name": "python3",
      "display_name": "Python 3"
    }
  },
  "cells": [
    {
      "cell_type": "markdown",
      "metadata": {
        "id": "view-in-github",
        "colab_type": "text"
      },
      "source": [
        "<a href=\"https://colab.research.google.com/github/skaurl/ktx-srt/blob/master/Untitled0.ipynb\" target=\"_parent\"><img src=\"https://colab.research.google.com/assets/colab-badge.svg\" alt=\"Open In Colab\"/></a>"
      ]
    },
    {
      "cell_type": "markdown",
      "metadata": {
        "id": "q1d2DVBjOYot",
        "colab_type": "text"
      },
      "source": [
        "**기본 설정**"
      ]
    },
    {
      "cell_type": "code",
      "metadata": {
        "id": "wVYB2KBbN9x3",
        "colab_type": "code",
        "colab": {
          "base_uri": "https://localhost:8080/",
          "height": 122
        },
        "outputId": "21613dd0-05f5-452a-ec5b-db4f6a5a9041"
      },
      "source": [
        "from google.colab import drive\n",
        "drive.mount('/gdrive')"
      ],
      "execution_count": 2,
      "outputs": [
        {
          "output_type": "stream",
          "text": [
            "Go to this URL in a browser: https://accounts.google.com/o/oauth2/auth?client_id=947318989803-6bn6qk8qdgf4n4g3pfee6491hc0brc4i.apps.googleusercontent.com&redirect_uri=urn%3aietf%3awg%3aoauth%3a2.0%3aoob&scope=email%20https%3a%2f%2fwww.googleapis.com%2fauth%2fdocs.test%20https%3a%2f%2fwww.googleapis.com%2fauth%2fdrive%20https%3a%2f%2fwww.googleapis.com%2fauth%2fdrive.photos.readonly%20https%3a%2f%2fwww.googleapis.com%2fauth%2fpeopleapi.readonly&response_type=code\n",
            "\n",
            "Enter your authorization code:\n",
            "··········\n",
            "Mounted at /gdrive\n"
          ],
          "name": "stdout"
        }
      ]
    },
    {
      "cell_type": "code",
      "metadata": {
        "id": "8ObDtbnvOLBf",
        "colab_type": "code",
        "colab": {
          "base_uri": "https://localhost:8080/",
          "height": 272
        },
        "outputId": "48c3b248-88e6-4463-9f77-5aeb1fd9242e"
      },
      "source": [
        "import matplotlib as mpl\n",
        "import matplotlib.pyplot as plt\n",
        "\n",
        "%config InlineBackend.figure_format = 'retina'\n",
        "\n",
        "!apt -qq -y install fonts-nanum\n",
        "\n",
        "import matplotlib.font_manager as fm\n",
        "fontpath = '/usr/share/fonts/truetype/nanum/NanumBarunGothic.ttf'\n",
        "font = fm.FontProperties(fname=fontpath, size=9)\n",
        "plt.rc('font', family='NanumBarunGothic')\n",
        "mpl.font_manager._rebuild()\n",
        "\n",
        "plt.rcParams[\"figure.figsize\"] = (10,10)\n",
        "\n",
        "import pandas as pd\n",
        "\n",
        "print(\"pandas version: \", pd.__version__)\n",
        "pd.set_option('display.max_row', 500)\n",
        "pd.set_option('display.max_columns', 100)"
      ],
      "execution_count": 3,
      "outputs": [
        {
          "output_type": "stream",
          "text": [
            "The following package was automatically installed and is no longer required:\n",
            "  libnvidia-common-440\n",
            "Use 'apt autoremove' to remove it.\n",
            "The following NEW packages will be installed:\n",
            "  fonts-nanum\n",
            "0 upgraded, 1 newly installed, 0 to remove and 35 not upgraded.\n",
            "Need to get 9,604 kB of archives.\n",
            "After this operation, 29.5 MB of additional disk space will be used.\n",
            "Selecting previously unselected package fonts-nanum.\n",
            "(Reading database ... 144487 files and directories currently installed.)\n",
            "Preparing to unpack .../fonts-nanum_20170925-1_all.deb ...\n",
            "Unpacking fonts-nanum (20170925-1) ...\n",
            "Setting up fonts-nanum (20170925-1) ...\n",
            "Processing triggers for fontconfig (2.12.6-0ubuntu2) ...\n",
            "pandas version:  1.0.5\n"
          ],
          "name": "stdout"
        }
      ]
    },
    {
      "cell_type": "markdown",
      "metadata": {
        "id": "14xBX9wIQAtm",
        "colab_type": "text"
      },
      "source": [
        "**데이터 전처리**"
      ]
    },
    {
      "cell_type": "code",
      "metadata": {
        "id": "v8rSp9KkQAFR",
        "colab_type": "code",
        "colab": {
          "base_uri": "https://localhost:8080/",
          "height": 1000
        },
        "outputId": "eaac00bd-5804-4ea5-e30f-3570ed3f22e2"
      },
      "source": [
        "import pandas as pd\n",
        "import numpy as np\n",
        "\n",
        "df = pd.read_csv(\"/gdrive/My Drive/한양대학교/자연과학대학 학술활동 프로그램(통계)/github/dataset.csv\")\n",
        "\n",
        "print(df)"
      ],
      "execution_count": 6,
      "outputs": [
        {
          "output_type": "stream",
          "text": [
            "            년월  고속철도 여객수 계  MERS  SRT\n",
            "0     2004.4.1        2127     0    0\n",
            "1     2004.5.1        2314     0    0\n",
            "2     2004.6.1        1968     0    0\n",
            "3     2004.7.1        2152     0    0\n",
            "4     2004.8.1        2247     0    0\n",
            "5     2004.9.1        2255     0    0\n",
            "6    2004.10.1        2278     0    0\n",
            "7    2004.11.1        2200     0    0\n",
            "8    2004.12.1        2340     0    0\n",
            "9     2005.1.1        2456     0    0\n",
            "10    2005.2.1        2431     0    0\n",
            "11    2005.3.1        2347     0    0\n",
            "12    2005.4.1        2534     0    0\n",
            "13    2005.5.1        2697     0    0\n",
            "14    2005.6.1        2540     0    0\n",
            "15    2005.7.1        2657     0    0\n",
            "16    2005.8.1        2912     0    0\n",
            "17    2005.9.1        2705     0    0\n",
            "18   2005.10.1        2965     0    0\n",
            "19   2005.11.1        2880     0    0\n",
            "20   2005.12.1        3244     0    0\n",
            "21    2006.1.1        3207     0    0\n",
            "22    2006.2.1        2825     0    0\n",
            "23    2006.3.1        2658     0    0\n",
            "24    2006.4.1        3005     0    0\n",
            "25    2006.5.1        3130     0    0\n",
            "26    2006.6.1        2840     0    0\n",
            "27    2006.7.1        2969     0    0\n",
            "28    2006.8.1        3141     0    0\n",
            "29    2006.9.1        2810     0    0\n",
            "30   2006.10.1        3403     0    0\n",
            "31   2006.11.1        3138     0    0\n",
            "32   2006.12.1        3362     0    0\n",
            "33    2007.1.1        3215     0    0\n",
            "34    2007.2.1        3081     0    0\n",
            "35    2007.3.1        2970     0    0\n",
            "36    2007.4.1        3009     0    0\n",
            "37    2007.5.1        3244     0    0\n",
            "38    2007.6.1        2971     0    0\n",
            "39    2007.7.1        2965     0    0\n",
            "40    2007.8.1        3162     0    0\n",
            "41    2007.9.1        3019     0    0\n",
            "42   2007.10.1        3179     0    0\n",
            "43   2007.11.1        3182     0    0\n",
            "44   2007.12.1        3285     0    0\n",
            "45    2008.1.1        3136     0    0\n",
            "46    2008.2.1        3138     0    0\n",
            "47    2008.3.1        2995     0    0\n",
            "48    2008.4.1        3065     0    0\n",
            "49    2008.5.1        3430     0    0\n",
            "50    2008.6.1        3015     0    0\n",
            "51    2008.7.1        2024     0    0\n",
            "52    2008.8.1        3337     0    0\n",
            "53    2008.9.1        3153     0    0\n",
            "54   2008.10.1        3299     0    0\n",
            "55   2008.11.1        3265     0    0\n",
            "56   2008.12.1        3158     0    0\n",
            "57    2009.1.1        3272     0    0\n",
            "58    2009.2.1        2830     0    0\n",
            "59    2009.3.1        2948     0    0\n",
            "60    2009.4.1        3066     0    0\n",
            "61    2009.5.1        3336     0    0\n",
            "62    2009.6.1        2930     0    0\n",
            "63    2009.7.1        2991     0    0\n",
            "64    2009.8.1        3333     0    0\n",
            "65    2009.9.1        2852     0    0\n",
            "66   2009.10.1        3489     0    0\n",
            "67   2009.11.1        3078     0    0\n",
            "68   2009.12.1        3268     0    0\n",
            "69    2010.1.1        3310     0    0\n",
            "70    2010.2.1        3196     0    0\n",
            "71    2010.3.1        3095     0    0\n",
            "72    2010.4.1        3163     0    0\n",
            "73    2010.5.1        3539     0    0\n",
            "74    2010.6.1        3041     0    0\n",
            "75    2010.7.1        3280     0    0\n",
            "76    2010.8.1        3496     0    0\n",
            "77    2010.9.1        3310     0    0\n",
            "78   2010.10.1        3670     0    0\n",
            "79   2010.11.1        3923     0    0\n",
            "80   2010.12.1        4259     0    0\n",
            "81    2011.1.1        4113     0    0\n",
            "82    2011.2.1        3991     0    0\n",
            "83    2011.3.1        3842     0    0\n",
            "84    2011.4.1        4176     0    0\n",
            "85    2011.5.1        4384     0    0\n",
            "86    2011.6.1        4008     0    0\n",
            "87    2011.7.1        4110     0    0\n",
            "88    2011.8.1        4325     0    0\n",
            "89    2011.9.1        4142     0    0\n",
            "90   2011.10.1        4520     0    0\n",
            "91   2011.11.1        4324     0    0\n",
            "92   2011.12.1        4373     0    0\n",
            "93    2012.1.1        4309     0    0\n",
            "94    2012.2.1        4082     0    0\n",
            "95    2012.3.1        4153     0    0\n",
            "96    2012.4.1        4251     0    0\n",
            "97    2012.5.1        4544     0    0\n",
            "98    2012.6.1        4287     0    0\n",
            "99    2012.7.1        4336     0    0\n",
            "100   2012.8.1        4400     0    0\n",
            "101   2012.9.1        4233     0    0\n",
            "102  2012.10.1        4697     0    0\n",
            "103  2012.11.1        4628     0    0\n",
            "104  2012.12.1        4881     0    0\n",
            "105   2013.1.1        4406     0    0\n",
            "106   2013.2.1        4395     0    0\n",
            "107   2013.3.1        4423     0    0\n",
            "108   2013.4.1        4442     0    0\n",
            "109   2013.5.1        4855     0    0\n",
            "110   2013.6.1        4396     0    0\n",
            "111   2013.7.1        4367     0    0\n",
            "112   2013.8.1        4613     0    0\n",
            "113   2013.9.1        4682     0    0\n",
            "114  2013.10.1        4792     0    0\n",
            "115  2013.11.1        4867     0    0\n",
            "116  2013.12.1        4592     0    0\n",
            "117   2014.1.1        4465     0    0\n",
            "118   2014.2.1        4326     0    0\n",
            "119   2014.3.1        4478     0    0\n",
            "120   2014.4.1        4589     0    0\n",
            "121   2014.5.1        4959     0    0\n",
            "122   2014.6.1        4951     0    0\n",
            "123   2014.7.1        4568     0    0\n",
            "124   2014.8.1        4995     0    0\n",
            "125   2014.9.1        4753     0    0\n",
            "126  2014.10.1        5119     0    0\n",
            "127  2014.11.1        4916     0    0\n",
            "128  2014.12.1        5156     0    0\n",
            "129   2015.1.1        4804     0    0\n",
            "130   2015.2.1        4400     0    0\n",
            "131   2015.3.1        4675     0    0\n",
            "132   2015.4.1        5117     0    0\n",
            "133   2015.5.1        5740     0    0\n",
            "134   2015.6.1        3738     1    0\n",
            "135   2015.7.1        4806     0    0\n",
            "136   2015.8.1        5341     0    0\n",
            "137   2015.9.1        5202     0    0\n",
            "138  2015.10.1        5633     0    0\n",
            "139  2015.11.1        5511     0    0\n",
            "140  2015.12.1        5438     0    0\n",
            "141   2016.1.1        5216     0    0\n",
            "142   2016.2.1        5184     0    0\n",
            "143   2016.3.1        5011     0    0\n",
            "144   2016.4.1        5357     0    0\n",
            "145   2016.5.1        5692     0    0\n",
            "146   2016.6.1        5270     0    0\n",
            "147   2016.7.1        5417     0    0\n",
            "148   2016.8.1        5424     0    0\n",
            "149   2016.9.1        5399     0    0\n",
            "150  2016.10.1        5911     0    0\n",
            "151  2016.11.1        5656     0    0\n",
            "152  2016.12.1        6072     0    1\n",
            "153   2017.1.1        6453     0    1\n",
            "154   2017.2.1        5879     0    1\n",
            "155   2017.3.1        6100     0    1\n",
            "156   2017.4.1        6543     0    1\n",
            "157   2017.5.1        6845     0    1\n",
            "158   2017.6.1        6314     0    1\n",
            "159   2017.7.1        6439     0    1\n",
            "160   2017.8.1        6657     0    1\n",
            "161   2017.9.1        6539     0    1\n",
            "162  2017.10.1        7155     0    1\n",
            "163  2017.11.1        6919     0    1\n",
            "164  2017.12.1        7271     0    1\n",
            "165   2018.1.1        6657     0    1\n",
            "166   2018.2.1        6548     0    1\n",
            "167   2018.3.1        6625     0    1\n",
            "168   2018.4.1        6900     0    1\n",
            "169   2018.5.1        7404     0    1\n",
            "170   2018.6.1        6829     0    1\n",
            "171   2018.7.1        6822     0    1\n",
            "172   2018.8.1        6990     0    1\n",
            "173   2018.9.1        7133     0    1\n",
            "174  2018.10.1        7442     0    1\n",
            "175  2018.11.1        7566     0    1\n",
            "176  2018.12.1        7461     0    1\n",
            "177   2019.1.1        6929     0    1\n",
            "178   2019.2.1        6942     0    1\n",
            "179   2019.3.1        7188     0    1\n",
            "180   2019.4.1        7247     0    1\n",
            "181   2019.5.1        7733     0    1\n",
            "182   2019.6.1        7294     0    1\n",
            "183   2019.7.1        7290     0    1\n",
            "184   2019.8.1        7656     0    1\n",
            "185   2019.9.1        7379     0    1\n",
            "186  2019.10.1        7819     0    1\n",
            "187  2019.11.1        7873     0    1\n",
            "188  2019.12.1        8070     0    1\n"
          ],
          "name": "stdout"
        }
      ]
    }
  ]
}